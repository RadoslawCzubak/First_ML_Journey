{
 "cells": [
  {
   "cell_type": "code",
   "execution_count": 21,
   "metadata": {},
   "outputs": [],
   "source": [
    "import tensorflow as tf"
   ]
  },
  {
   "cell_type": "code",
   "execution_count": 22,
   "metadata": {},
   "outputs": [],
   "source": [
    "mnist = tf.keras.datasets.mnist\n",
    "(x_train, y_train), (x_test, y_test) = mnist.load_data()\n",
    "x_train, x_test = x_train / 255.0, x_test / 255.0"
   ]
  },
  {
   "cell_type": "code",
   "execution_count": 23,
   "metadata": {},
   "outputs": [],
   "source": [
    "model = tf.keras.models.Sequential(\n",
    "    [\n",
    "        tf.keras.layers.Conv2D(6, (5, 5), input_shape=(28, 28, 1), activation=\"relu\"),\n",
    "        tf.keras.layers.MaxPool2D(2, 2),\n",
    "        tf.keras.layers.Conv2D(16, (5, 5), activation=\"relu\"),\n",
    "        tf.keras.layers.MaxPool2D(2, 2),\n",
    "        tf.keras.layers.Flatten(),\n",
    "        tf.keras.layers.Dense(120, activation=\"relu\"),\n",
    "        tf.keras.layers.Dense(84, activation=\"relu\"),\n",
    "        tf.keras.layers.Dense(10, activation=\"relu\"),\n",
    "    ]\n",
    ")"
   ]
  },
  {
   "cell_type": "code",
   "execution_count": 24,
   "metadata": {},
   "outputs": [
    {
     "name": "stdout",
     "output_type": "stream",
     "text": [
      "Model: \"sequential_3\"\n",
      "_________________________________________________________________\n",
      " Layer (type)                Output Shape              Param #   \n",
      "=================================================================\n",
      " conv2d_6 (Conv2D)           (None, 24, 24, 6)         156       \n",
      "                                                                 \n",
      " max_pooling2d_6 (MaxPooling  (None, 12, 12, 6)        0         \n",
      " 2D)                                                             \n",
      "                                                                 \n",
      " conv2d_7 (Conv2D)           (None, 8, 8, 16)          2416      \n",
      "                                                                 \n",
      " max_pooling2d_7 (MaxPooling  (None, 4, 4, 16)         0         \n",
      " 2D)                                                             \n",
      "                                                                 \n",
      " flatten_4 (Flatten)         (None, 256)               0         \n",
      "                                                                 \n",
      " dense_8 (Dense)             (None, 120)               30840     \n",
      "                                                                 \n",
      " dense_9 (Dense)             (None, 84)                10164     \n",
      "                                                                 \n",
      " dense_10 (Dense)            (None, 10)                850       \n",
      "                                                                 \n",
      "=================================================================\n",
      "Total params: 44,426\n",
      "Trainable params: 44,426\n",
      "Non-trainable params: 0\n",
      "_________________________________________________________________\n"
     ]
    }
   ],
   "source": [
    "model.summary()"
   ]
  },
  {
   "cell_type": "code",
   "execution_count": 33,
   "metadata": {},
   "outputs": [],
   "source": [
    "loss_fn = tf.keras.losses.SparseCategoricalCrossentropy(from_logits=True)"
   ]
  },
  {
   "cell_type": "code",
   "execution_count": 36,
   "metadata": {},
   "outputs": [],
   "source": [
    "model.compile(optimizer=tf.keras.optimizers.SGD(), loss=loss_fn, metrics=tf.keras.metrics.SparseCategoricalAccuracy())"
   ]
  },
  {
   "cell_type": "code",
   "execution_count": 37,
   "metadata": {},
   "outputs": [
    {
     "name": "stdout",
     "output_type": "stream",
     "text": [
      "Epoch 1/11\n",
      "1875/1875 [==============================] - 6s 3ms/step - loss: 0.7284 - sparse_categorical_accuracy: 0.7731\n",
      "Epoch 2/11\n",
      "1875/1875 [==============================] - 6s 3ms/step - loss: 0.1723 - sparse_categorical_accuracy: 0.9480\n",
      "Epoch 3/11\n",
      "1875/1875 [==============================] - 6s 3ms/step - loss: 0.1115 - sparse_categorical_accuracy: 0.9651\n",
      "Epoch 4/11\n",
      "1875/1875 [==============================] - 6s 3ms/step - loss: 0.0874 - sparse_categorical_accuracy: 0.9726\n",
      "Epoch 5/11\n",
      "1875/1875 [==============================] - 6s 3ms/step - loss: 0.0730 - sparse_categorical_accuracy: 0.9773\n",
      "Epoch 6/11\n",
      "1875/1875 [==============================] - 7s 4ms/step - loss: 0.0621 - sparse_categorical_accuracy: 0.9809\n",
      "Epoch 7/11\n",
      "1875/1875 [==============================] - 7s 3ms/step - loss: 0.0564 - sparse_categorical_accuracy: 0.9822\n",
      "Epoch 8/11\n",
      "1875/1875 [==============================] - 6s 3ms/step - loss: 0.0499 - sparse_categorical_accuracy: 0.9844\n",
      "Epoch 9/11\n",
      "1875/1875 [==============================] - 6s 3ms/step - loss: 0.0459 - sparse_categorical_accuracy: 0.9858\n",
      "Epoch 10/11\n",
      "1875/1875 [==============================] - 6s 3ms/step - loss: 0.0415 - sparse_categorical_accuracy: 0.9869\n",
      "Epoch 11/11\n",
      "1875/1875 [==============================] - 6s 3ms/step - loss: 0.0389 - sparse_categorical_accuracy: 0.9883\n"
     ]
    },
    {
     "data": {
      "text/plain": [
       "<keras.callbacks.History at 0x16befc910>"
      ]
     },
     "execution_count": 37,
     "metadata": {},
     "output_type": "execute_result"
    }
   ],
   "source": [
    "model.fit(x_train, y_train, epochs=11)"
   ]
  },
  {
   "cell_type": "code",
   "execution_count": 38,
   "metadata": {},
   "outputs": [
    {
     "name": "stdout",
     "output_type": "stream",
     "text": [
      "313/313 - 1s - loss: 0.0390 - sparse_categorical_accuracy: 0.9865 - 530ms/epoch - 2ms/step\n"
     ]
    },
    {
     "data": {
      "text/plain": [
       "[0.03900613635778427, 0.9865000247955322]"
      ]
     },
     "execution_count": 38,
     "metadata": {},
     "output_type": "execute_result"
    }
   ],
   "source": [
    "model.evaluate(x_test,  y_test, verbose=2)"
   ]
  },
  {
   "cell_type": "code",
   "execution_count": 68,
   "metadata": {},
   "outputs": [
    {
     "name": "stdout",
     "output_type": "stream",
     "text": [
      "(28, 28, 4)\n",
      "(28, 28, 1)\n"
     ]
    },
    {
     "data": {
      "image/png": "[encoded data removed]",
      "text/plain": [
       "<Figure size 640x480 with 1 Axes>"
      ]
     },
     "metadata": {},
     "output_type": "display_data"
    }
   ],
   "source": [
    "from PIL import Image\n",
    "import numpy as np\n",
    "import matplotlib.pyplot as plt\n",
    "\n",
    "my_image = Image.open(\"./My images/Zrzut ekranu 2023-11-12 o 02.59.01.png\")\n",
    "my_image = my_image.resize((28, 28))\n",
    "my_image_array = np.array(my_image)\n",
    "my_image_to_recognize = my_image_array[:, :, 0].reshape(28, 28, 1)\n",
    "my_image_to_recognize = (my_image_to_recognize - np.min(my_image_to_recognize)) / (\n",
    "    np.max(my_image_to_recognize) - np.min(my_image_to_recognize)\n",
    ")\n",
    "my_image_to_recognize = 1 - my_image_to_recognize\n",
    "print(my_image_array.shape)\n",
    "print(my_image_to_recognize.shape)\n",
    "plt.imshow(my_image_to_recognize.squeeze(), cmap=\"gray\")\n",
    "image_tensor = tf.convert_to_tensor(my_image_to_recognize)"
   ]
  },
  {
   "cell_type": "code",
   "execution_count": 69,
   "metadata": {},
   "outputs": [
    {
     "name": "stdout",
     "output_type": "stream",
     "text": [
      "1/1 [==============================] - 0s 13ms/step\n"
     ]
    },
    {
     "data": {
      "text/plain": [
       "array([[2.2723591, 0.       , 0.       , 0.       , 0.       , 5.0081873,\n",
       "        6.162976 , 0.       , 2.1875772, 0.0337656]], dtype=float32)"
      ]
     },
     "execution_count": 69,
     "metadata": {},
     "output_type": "execute_result"
    }
   ],
   "source": [
    "y_pred = model.predict(tf.expand_dims(image_tensor,0))\n",
    "y_pred"
   ]
  },
  {
   "cell_type": "code",
   "execution_count": 70,
   "metadata": {},
   "outputs": [
    {
     "data": {
      "text/plain": [
       "6"
      ]
     },
     "execution_count": 70,
     "metadata": {},
     "output_type": "execute_result"
    }
   ],
   "source": [
    "np.argmax(y_pred)"
   ]
  },
  {
   "cell_type": "code",
   "execution_count": null,
   "metadata": {},
   "outputs": [],
   "source": []
  }
 ],
 "metadata": {
  "kernelspec": {
   "display_name": "minst-project",
   "language": "python",
   "name": "python3"
  },
  "language_info": {
   "codemirror_mode": {
    "name": "ipython",
    "version": 3
   },
   "file_extension": ".py",
   "mimetype": "text/x-python",
   "name": "python",
   "nbconvert_exporter": "python",
   "pygments_lexer": "ipython3",
   "version": "3.10.13"
  }
 },
 "nbformat": 4,
 "nbformat_minor": 2
}
